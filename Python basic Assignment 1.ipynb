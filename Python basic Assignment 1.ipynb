{
 "cells": [
  {
   "cell_type": "markdown",
   "id": "db44e825",
   "metadata": {},
   "source": [
    "# Python Basic"
   ]
  },
  {
   "cell_type": "markdown",
   "id": "2e7ecbbd",
   "metadata": {},
   "source": [
    "# ASSIGNMENT 1"
   ]
  },
  {
   "cell_type": "markdown",
   "id": "8473d197",
   "metadata": {},
   "source": [
    "#Question 1"
   ]
  },
  {
   "cell_type": "raw",
   "id": "7ed7c763",
   "metadata": {},
   "source": [
    "1. In the below elements which of them are values or an expression? eg:- values can be\n",
    "integer or string and expressions will be mathematical operators.\n",
    "*\n",
    "'hello'\n",
    "-87.8\n",
    "-\n",
    "/\n",
    "+\n",
    "6\n",
    "\n",
    "Solution:-\n",
    "\n",
    "Here only 'hello' , 6 , and -87.8 are the values. \n",
    "\n",
    "and rest * , - , / , + are expression."
   ]
  },
  {
   "cell_type": "markdown",
   "id": "69f2cad5",
   "metadata": {},
   "source": [
    "#Question 2"
   ]
  },
  {
   "cell_type": "raw",
   "id": "fb1d80bc",
   "metadata": {},
   "source": [
    "2. What is the difference between string and variable?\n",
    "\n",
    "Solution:-\n",
    "\n",
    "---String is a data type in python, which is written inside single and double quotes.\n",
    "     example:-\"this is a string\"\n",
    "\n",
    "---variable is something to which we give a value in python.\n",
    "    for example:- a = 45,  here 'a' is a variable and '45' is the value given to it.\n",
    "    "
   ]
  },
  {
   "cell_type": "markdown",
   "id": "0ca37c51",
   "metadata": {},
   "source": [
    "#Question 3"
   ]
  },
  {
   "cell_type": "raw",
   "id": "bf76382b",
   "metadata": {},
   "source": [
    "3. Describe three different data types.\n",
    "\n",
    "Solution:-\n",
    "\n",
    "    Three different data type are :- 1.)list\n",
    "                                     2.)Tuples\n",
    "                                     3.)Dictionary\n",
    "                                     \n",
    " List:-\n",
    "    list is written inside \"[]\"\n",
    "    its mutable and can be done by \"list.\" operations\n",
    "    \n",
    " Tuples:-\n",
    "    tuples are written inside parenthesis \"()\"\n",
    "    its immutable.\n",
    "\n",
    "\n",
    "Dictionary:-\n",
    "    its written inside \"{}\"\n",
    "    it contains keys and values, like {\"key\" : \"value\" ,}"
   ]
  },
  {
   "cell_type": "markdown",
   "id": "f2ed494d",
   "metadata": {},
   "source": [
    "#Question 4"
   ]
  },
  {
   "cell_type": "raw",
   "id": "5cfcd9c8",
   "metadata": {},
   "source": [
    "4. What is an expression made up of? What do all expressions do?\n",
    "\n",
    "Solution:-\n",
    "\n",
    "The combination of operators, variables, operands and values can be called an expression.\n",
    "for example :- a = 1 \n",
    "               b = 2 \n",
    "               print(a+b)\n",
    " and expressions are needed to be evaluated by python."
   ]
  },
  {
   "cell_type": "markdown",
   "id": "1b0b1c5f",
   "metadata": {},
   "source": [
    "#Question 5"
   ]
  },
  {
   "cell_type": "raw",
   "id": "4543beb4",
   "metadata": {},
   "source": [
    "5. This assignment statements, like spam = 10. What is the difference between an\n",
    "expression and a statement?\n",
    "\n",
    "Solution :-\n",
    "\n",
    "expression is combination of values operators and variables,\n",
    "but statement are the instruction which we give to python.\n",
    "like 'if', 'else' statement."
   ]
  },
  {
   "cell_type": "markdown",
   "id": "c38b23ff",
   "metadata": {},
   "source": [
    "#Question 6"
   ]
  },
  {
   "cell_type": "raw",
   "id": "3998b1a9",
   "metadata": {},
   "source": [
    "6. After running the following code, what does the variable bacon contain?\n",
    "bacon = 22\n",
    "bacon + 1\n",
    "\n",
    "Solution:- bacon variable still contains 22, but after addition bacon+1 it will give 23."
   ]
  },
  {
   "cell_type": "markdown",
   "id": "8956eaaf",
   "metadata": {},
   "source": [
    "#Question 7"
   ]
  },
  {
   "cell_type": "raw",
   "id": "f23ce271",
   "metadata": {},
   "source": [
    "7. What should the values of the following two terms be?\n",
    "'spam' + 'spamspam'\n",
    "'spam' * 3\n",
    "\n",
    "Solution:- 'spam' + 'spamspam' = 'spamspamspam'\n",
    "\n",
    "           'spam' * 3 = 'spamspamspam'\n",
    "           \n",
    "both give same result"
   ]
  },
  {
   "cell_type": "markdown",
   "id": "217634a2",
   "metadata": {},
   "source": [
    "#Question 8"
   ]
  },
  {
   "cell_type": "raw",
   "id": "337ac4fe",
   "metadata": {},
   "source": [
    "8. Why is eggs a valid variable name while 100 is invalid?\n",
    "\n",
    "Solution:- \n",
    "\n",
    "Because in python variable name cannot start with a number. It can start with underscore or letters only."
   ]
  },
  {
   "cell_type": "markdown",
   "id": "28246681",
   "metadata": {},
   "source": [
    "#Question 9"
   ]
  },
  {
   "cell_type": "raw",
   "id": "0e546e29",
   "metadata": {},
   "source": [
    "What three functions can be used to get the integer, floating-point number, or string\n",
    "version of a value?\n",
    "\n",
    "Solution:-\n",
    "    \n",
    "int() -- function for integer,\n",
    "float() -- function for floating-point number,\n",
    "str() -- function for string."
   ]
  },
  {
   "cell_type": "markdown",
   "id": "cf1c74f2",
   "metadata": {},
   "source": [
    "#Question 10\n"
   ]
  },
  {
   "cell_type": "raw",
   "id": "4b162818",
   "metadata": {},
   "source": [
    "10. Why does this expression cause an error? How can you fix it?\n",
    "'I have eaten' + 99 + 'burritos'\n",
    "\n",
    "Solution:- \n",
    "\n",
    "This expression cause an error because we cannot do concatination between string and integers.\n",
    "To solve it just single quote the integer value:\n",
    "        \n",
    "           'I have eaten' + ' 99 ' + 'burritos'  "
   ]
  }
 ],
 "metadata": {
  "kernelspec": {
   "display_name": "Python 3 (ipykernel)",
   "language": "python",
   "name": "python3"
  },
  "language_info": {
   "codemirror_mode": {
    "name": "ipython",
    "version": 3
   },
   "file_extension": ".py",
   "mimetype": "text/x-python",
   "name": "python",
   "nbconvert_exporter": "python",
   "pygments_lexer": "ipython3",
   "version": "3.9.7"
  }
 },
 "nbformat": 4,
 "nbformat_minor": 5
}
