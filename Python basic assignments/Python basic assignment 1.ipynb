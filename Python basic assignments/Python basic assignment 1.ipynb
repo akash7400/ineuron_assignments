{
 "cells": [
  {
   "cell_type": "markdown",
   "id": "0d99381d",
   "metadata": {},
   "source": [
    "# Python basic \n",
    "# Assignment 1"
   ]
  },
  {
   "cell_type": "markdown",
   "id": "e306351c",
   "metadata": {},
   "source": [
    "Question 1"
   ]
  },
  {
   "cell_type": "code",
   "execution_count": null,
   "id": "f0504d6a",
   "metadata": {},
   "outputs": [],
   "source": [
    "1. In the below elements which of them are values or an expression? eg:- values can be\n",
    "integer or string and expressions will be mathematical operators.\n",
    "*\n",
    "'hello'\n",
    "-87.8\n",
    "-\n",
    "/\n",
    "+\n",
    "6\n",
    "\n",
    "Solution:-\n",
    "\n",
    "Here only 'hello' , 6 , and -87.8 are the values. \n",
    "\n",
    "and rest * , - , / , + are expression."
   ]
  },
  {
   "cell_type": "markdown",
   "id": "5db7591d",
   "metadata": {},
   "source": [
    "Question 2"
   ]
  },
  {
   "cell_type": "code",
   "execution_count": null,
   "id": "b8213deb",
   "metadata": {},
   "outputs": [],
   "source": [
    "2. What is the difference between string and variable?\n",
    "\n",
    "Solution:-\n",
    "\n",
    "---String is a data type in python, which is written inside single and double quotes.\n",
    "     example:-\"this is a string\"\n",
    "\n",
    "---variable is something to which we give a value in python.\n",
    "    for example:- a = 45,  here 'a' is a variable and '45' is the value given to it.\n",
    "    "
   ]
  },
  {
   "cell_type": "markdown",
   "id": "9e393bc1",
   "metadata": {},
   "source": [
    "Question 3"
   ]
  },
  {
   "cell_type": "code",
   "execution_count": null,
   "id": "d3a632a6",
   "metadata": {},
   "outputs": [],
   "source": [
    "3. Describe three different data types.\n",
    "\n",
    "Solution:-\n",
    "\n",
    "    Three different data type are :- 1.)list\n",
    "                                     2.)Tuples\n",
    "                                     3.)Dictionary\n",
    "                                     \n",
    " List:-\n",
    "    list is written inside \"[]\"\n",
    "    its mutable and can be done by \"list.\" operations\n",
    "    \n",
    " Tuples:-\n",
    "    tuples are written inside parenthesis \"()\"\n",
    "    its immutable.\n",
    "\n",
    "\n",
    "Dictionary:-\n",
    "    its written inside \"{}\"\n",
    "    it contains keys and values, like {\"key\" : \"value\" ,}"
   ]
  },
  {
   "cell_type": "markdown",
   "id": "d7efbb47",
   "metadata": {},
   "source": [
    "Question 4"
   ]
  },
  {
   "cell_type": "code",
   "execution_count": null,
   "id": "29ec4ee7",
   "metadata": {},
   "outputs": [],
   "source": [
    "4. What is an expression made up of? What do all expressions do?\n",
    "\n",
    "Solution:-\n",
    "\n",
    "The combination of operators, variables, operands and values can be called an expression.\n",
    "for example :- a = 1 \n",
    "               b = 2 \n",
    "               print(a+b)\n",
    " and expressions are needed to be evaluated by python."
   ]
  },
  {
   "cell_type": "markdown",
   "id": "943b0af5",
   "metadata": {},
   "source": [
    "Question 5"
   ]
  },
  {
   "cell_type": "code",
   "execution_count": null,
   "id": "6b1765a6",
   "metadata": {},
   "outputs": [],
   "source": [
    "5. This assignment statements, like spam = 10. What is the difference between an\n",
    "expression and a statement?\n",
    "\n",
    "Solution :-\n",
    "\n",
    "expression is combination of values operators and variables,\n",
    "but statement are the instruction which we give to python.\n",
    "like 'if', 'else' statement."
   ]
  },
  {
   "cell_type": "markdown",
   "id": "519f806b",
   "metadata": {},
   "source": [
    "Question 6"
   ]
  },
  {
   "cell_type": "code",
   "execution_count": null,
   "id": "5b3c01ef",
   "metadata": {},
   "outputs": [],
   "source": [
    "6. After running the following code, what does the variable bacon contain?\n",
    "bacon = 22\n",
    "bacon + 1\n",
    "\n",
    "Solution:- bacon variable still contains 22, but after addition bacon+1 it will give 23."
   ]
  },
  {
   "cell_type": "markdown",
   "id": "c64cfef3",
   "metadata": {},
   "source": [
    "Question 7"
   ]
  },
  {
   "cell_type": "code",
   "execution_count": null,
   "id": "3a821b7f",
   "metadata": {},
   "outputs": [],
   "source": [
    "7. What should the values of the following two terms be?\n",
    "'spam' + 'spamspam'\n",
    "'spam' * 3\n",
    "\n",
    "Solution:- 'spam' + 'spamspam' = 'spamspamspam'\n",
    "\n",
    "           'spam' * 3 = 'spamspamspam'\n",
    "           \n",
    "both give same result"
   ]
  },
  {
   "cell_type": "markdown",
   "id": "29540628",
   "metadata": {},
   "source": [
    "Question 8"
   ]
  },
  {
   "cell_type": "code",
   "execution_count": null,
   "id": "eac818ea",
   "metadata": {},
   "outputs": [],
   "source": [
    "8. Why is eggs a valid variable name while 100 is invalid?\n",
    "\n",
    "Solution:- \n",
    "\n",
    "Because in python variable name cannot start with a number. It can start with underscore or letters only."
   ]
  },
  {
   "cell_type": "markdown",
   "id": "0ae71658",
   "metadata": {},
   "source": [
    "Question 9"
   ]
  },
  {
   "cell_type": "code",
   "execution_count": null,
   "id": "df167fce",
   "metadata": {},
   "outputs": [],
   "source": [
    "9. What three functions can be used to get the integer, floating-point number, or string\n",
    "version of a value?\n",
    "\n",
    "Solution:-\n",
    "    \n",
    "int() -- function for integer,\n",
    "float() -- function for floating-point number,\n",
    "str() -- function for string."
   ]
  },
  {
   "cell_type": "markdown",
   "id": "71bc1584",
   "metadata": {},
   "source": [
    "Question 10"
   ]
  },
  {
   "cell_type": "code",
   "execution_count": null,
   "id": "80a1e202",
   "metadata": {},
   "outputs": [],
   "source": [
    "10. Why does this expression cause an error? How can you fix it?\n",
    "'I have eaten' + 99 + 'burritos'\n",
    "\n",
    "Solution:- \n",
    "\n",
    "This expression cause an error because we cannot do concatination between string and integers.\n",
    "To solve it just single quote the integer value:\n",
    "        \n",
    "           'I have eaten' + ' 99 ' + 'burritos'  "
   ]
  }
 ],
 "metadata": {
  "kernelspec": {
   "display_name": "Python 3 (ipykernel)",
   "language": "python",
   "name": "python3"
  },
  "language_info": {
   "codemirror_mode": {
    "name": "ipython",
    "version": 3
   },
   "file_extension": ".py",
   "mimetype": "text/x-python",
   "name": "python",
   "nbconvert_exporter": "python",
   "pygments_lexer": "ipython3",
   "version": "3.9.7"
  }
 },
 "nbformat": 4,
 "nbformat_minor": 5
}
