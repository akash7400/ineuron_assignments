{
 "cells": [
  {
   "cell_type": "markdown",
   "id": "ffcac66e",
   "metadata": {},
   "source": [
    "# Python basic\n",
    "# Assignment 2"
   ]
  },
  {
   "cell_type": "markdown",
   "id": "cb8eeed7",
   "metadata": {},
   "source": [
    "Question 1"
   ]
  },
  {
   "cell_type": "code",
   "execution_count": null,
   "id": "1c65cdae",
   "metadata": {},
   "outputs": [],
   "source": [
    "1.What are the two values of the Boolean data type? How do you write them?\n",
    "\n",
    "Solution:- True and False are the two boolean data type. They are written in a comparison expression,\n",
    "           when we compare two values."
   ]
  },
  {
   "cell_type": "markdown",
   "id": "7e6363dd",
   "metadata": {},
   "source": [
    "Question 2"
   ]
  },
  {
   "cell_type": "code",
   "execution_count": null,
   "id": "8ded930c",
   "metadata": {},
   "outputs": [],
   "source": [
    "2. What are the three different types of Boolean operators?\n",
    "\n",
    "Solution:-Three boolean operators are, 1.) and\n",
    "                                       2.) or\n",
    "                                       3.) not"
   ]
  },
  {
   "cell_type": "markdown",
   "id": "2849b83f",
   "metadata": {},
   "source": [
    "Question 3"
   ]
  },
  {
   "cell_type": "code",
   "execution_count": null,
   "id": "c7fe7cd3",
   "metadata": {},
   "outputs": [],
   "source": [
    "3. Make a list of each Boolean operator's truth tables (i.e. every possible combination of Boolean\n",
    "values for the operator and what it evaluate ).\n",
    "\n",
    "Solution:- 'NOT' truth table:-                     code:- >>> not True\n",
    "                                                            False\n",
    "         A        not A                                   >>> not False\n",
    "                                                            True\n",
    "       True        False                                               \n",
    "       False\t   True\n",
    "                                 \n",
    "                                                                                    \n",
    "                        \n",
    "\n",
    "'AND' truth table:-                                  \n",
    "\n",
    "\n",
    "         A   \t B\t    A and B\n",
    "        \n",
    "        True\tTrue\tTrue\n",
    "        False\tTrue\tFalse\n",
    "        True\tFalse\tFalse\n",
    "        False\tFalse\tFalse\n",
    "        \n",
    "        \n",
    "        \n",
    "'OR' truth table:-\n",
    "\n",
    "\n",
    "              A         B         A or B\n",
    "            True\t    True\t  True\n",
    "            False\t    True\t  True\n",
    "            True\t    False\t  True\n",
    "            False\t    False\t  False"
   ]
  },
  {
   "cell_type": "markdown",
   "id": "81ca7f2f",
   "metadata": {},
   "source": [
    "Question 4"
   ]
  },
  {
   "cell_type": "code",
   "execution_count": null,
   "id": "c797e5a9",
   "metadata": {},
   "outputs": [],
   "source": [
    "4. What are the values of the following expressions?\n",
    "(5 > 4) and (3 == 5)\n",
    "not (5 > 4)\n",
    "(5 > 4) or (3 == 5)\n",
    "not ((5 > 4) or (3 == 5))\n",
    "(True and True) and (True == False)\n",
    "(not False) or (not True)\n",
    "\n",
    " Solution:- print((5>4)and(3==5))                  # False\n",
    "            print(not(5>4))                        # False\n",
    "            print((5>4)or(3==5))                   # True\n",
    "            print(not((5>4)or(3==5)))              # False\n",
    "            print((True and True)and(True==False)) # False\n",
    "            print((not False)or(not True))         # True"
   ]
  },
  {
   "cell_type": "markdown",
   "id": "abac9039",
   "metadata": {},
   "source": [
    "Question 5"
   ]
  },
  {
   "cell_type": "code",
   "execution_count": null,
   "id": "dcbd2ea2",
   "metadata": {},
   "outputs": [],
   "source": [
    "5. What are the six comparison operators?\n",
    "\n",
    "solution:- == , != , < , > , <= , => these are the six comparison     operators in python."
   ]
  },
  {
   "cell_type": "markdown",
   "id": "d1628aee",
   "metadata": {},
   "source": [
    "Question 6"
   ]
  },
  {
   "cell_type": "code",
   "execution_count": null,
   "id": "5e41c798",
   "metadata": {},
   "outputs": [],
   "source": [
    "6. How do you tell the difference between the equal to and assignment operators?Describe a condition and when you would use one ?\n",
    "\n",
    "\n",
    "solution:- == is the equal to operator that compares two values and evaluates to a Boolean,\n",
    "          while = is that assignment operator that stores a value in a variable."
   ]
  },
  {
   "cell_type": "markdown",
   "id": "0412e136",
   "metadata": {},
   "source": [
    "Question 7"
   ]
  },
  {
   "cell_type": "code",
   "execution_count": null,
   "id": "0d0453b8",
   "metadata": {},
   "outputs": [],
   "source": [
    "7. Identify the three blocks in this code:\n",
    "spam = 0\n",
    "if spam == 10:\n",
    "print('eggs')\n",
    "if spam > 5:\n",
    "print('bacon')\n",
    "else:\n",
    "print('ham')\n",
    "print('spam')\n",
    "print('spam')\n",
    "\n",
    " solution:-     spam = 0  \n",
    "                if spam == 10:  \n",
    "                    print('eggs')  # block #1\n",
    "                if spam > 5:  \n",
    "                    print('bacon')  # block #2\n",
    "                else:  \n",
    "                    print('ham')  # block #3\n",
    "                    print('spam')  \n",
    "                    print('spam')\n"
   ]
  },
  {
   "cell_type": "markdown",
   "id": "0b7da23d",
   "metadata": {},
   "source": [
    "Question 8"
   ]
  },
  {
   "cell_type": "code",
   "execution_count": null,
   "id": "7c00940f",
   "metadata": {},
   "outputs": [],
   "source": [
    "8. Write code that prints Hello if 1 is stored in spam, prints Howdy if 2 is stored in spam, and prints Greetings!\n",
    "   if anything else is stored in spam.\n",
    "    \n",
    "solution:-"
   ]
  },
  {
   "cell_type": "code",
   "execution_count": 4,
   "id": "68644725",
   "metadata": {},
   "outputs": [
    {
     "name": "stdout",
     "output_type": "stream",
     "text": [
      "enter the value: 2\n",
      "Howdy\n"
     ]
    }
   ],
   "source": [
    "spam = int(input(\"enter the value: \"))\n",
    "if spam == 1:\n",
    "    print('Hello')\n",
    "elif spam==2:\n",
    "    print('Howdy')\n",
    "else:\n",
    "    print('Greetings')"
   ]
  },
  {
   "cell_type": "markdown",
   "id": "65654cf3",
   "metadata": {},
   "source": [
    "Question 9"
   ]
  },
  {
   "cell_type": "code",
   "execution_count": null,
   "id": "4a986abc",
   "metadata": {},
   "outputs": [],
   "source": [
    "9.If your programme is stuck in an endless loop, what keys you’ll press?\n",
    "\n",
    "solution:- ctrl-c is pressed to stop the endless loop."
   ]
  },
  {
   "cell_type": "markdown",
   "id": "b12bc2ce",
   "metadata": {},
   "source": [
    "Question 10"
   ]
  },
  {
   "cell_type": "code",
   "execution_count": null,
   "id": "503ff832",
   "metadata": {},
   "outputs": [],
   "source": [
    "10. How can you tell the difference between break and continue?\n",
    "\n",
    "Solution:- The break statement will move the execution outside the loop if break condtion is satisfied. Whereas,\n",
    "           the continue statement will move the execution to the start of the loop."
   ]
  },
  {
   "cell_type": "markdown",
   "id": "10c2264d",
   "metadata": {},
   "source": [
    "Question 11"
   ]
  },
  {
   "cell_type": "code",
   "execution_count": null,
   "id": "695e36d3",
   "metadata": {},
   "outputs": [],
   "source": [
    "11. In a for loop, what is the difference between range(10), range(0, 10), and range(0, 10, 1)?\n",
    "\n",
    "solution:- \n",
    "    \n",
    "    \n",
    "1.)  The range(10) generates range from 0 to 9 excluding the 10\n",
    "2.)  The range (0,10) will specifically tell the loop to start at 0 and go till 9\n",
    "3.)  The range(0,10,1) will specifically tell the loop to increase the variable by 1 on each iteration"
   ]
  },
  {
   "cell_type": "markdown",
   "id": "4c69f5a7",
   "metadata": {},
   "source": [
    "Question 12"
   ]
  },
  {
   "cell_type": "raw",
   "id": "ac59ed1a",
   "metadata": {},
   "source": [
    "12. Write a short program that prints the numbers 1 to 10 using a for loop.\n",
    "Then write an equivalent program that prints the numbers 1 to 10 using a while loop ?\n",
    "\n",
    "Solution:-"
   ]
  },
  {
   "cell_type": "code",
   "execution_count": 23,
   "id": "3d3c0adf",
   "metadata": {},
   "outputs": [
    {
     "name": "stdout",
     "output_type": "stream",
     "text": [
      "0 1 2 3 4 5 6 7 8 9 10 "
     ]
    }
   ],
   "source": [
    "for i in range(11):\n",
    "    print(i, end = \" \")"
   ]
  },
  {
   "cell_type": "code",
   "execution_count": 24,
   "id": "79d79f4d",
   "metadata": {},
   "outputs": [
    {
     "name": "stdout",
     "output_type": "stream",
     "text": [
      "0 1 2 3 4 5 6 7 8 9 10 "
     ]
    }
   ],
   "source": [
    "a = 0\n",
    "while a <= 10:\n",
    "    print(a , end = \" \")\n",
    "    a = a+1\n",
    "    "
   ]
  },
  {
   "cell_type": "markdown",
   "id": "f80fc44b",
   "metadata": {},
   "source": [
    "Question 13"
   ]
  },
  {
   "cell_type": "code",
   "execution_count": null,
   "id": "a2315d85",
   "metadata": {},
   "outputs": [],
   "source": [
    "13. If you had a function named bacon() inside a module named spam,\n",
    "    how would you call it after importing spam ?\n",
    "    \n",
    "Solution:- spam.bacon() "
   ]
  }
 ],
 "metadata": {
  "kernelspec": {
   "display_name": "Python 3 (ipykernel)",
   "language": "python",
   "name": "python3"
  },
  "language_info": {
   "codemirror_mode": {
    "name": "ipython",
    "version": 3
   },
   "file_extension": ".py",
   "mimetype": "text/x-python",
   "name": "python",
   "nbconvert_exporter": "python",
   "pygments_lexer": "ipython3",
   "version": "3.9.7"
  }
 },
 "nbformat": 4,
 "nbformat_minor": 5
}
